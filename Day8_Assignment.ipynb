{
  "nbformat": 4,
  "nbformat_minor": 0,
  "metadata": {
    "colab": {
      "name": "Day8-Assignment.ipynb",
      "provenance": [],
      "authorship_tag": "ABX9TyM7yTSgbqprZAiosFMkTXja",
      "include_colab_link": true
    },
    "kernelspec": {
      "name": "python3",
      "display_name": "Python 3"
    }
  },
  "cells": [
    {
      "cell_type": "markdown",
      "metadata": {
        "id": "view-in-github",
        "colab_type": "text"
      },
      "source": [
        "<a href=\"https://colab.research.google.com/github/RanjithAruchamy/LetsUpgrade-Python/blob/master/Day8_Assignment.ipynb\" target=\"_parent\"><img src=\"https://colab.research.google.com/assets/colab-badge.svg\" alt=\"Open In Colab\"/></a>"
      ]
    },
    {
      "cell_type": "code",
      "metadata": {
        "id": "B7jadvfkLhcO",
        "colab_type": "code",
        "colab": {
          "base_uri": "https://localhost:8080/",
          "height": 153
        },
        "outputId": "62a4feee-7ab4-469c-87a3-2051b0a0d2ca"
      },
      "source": [
        "#***********************Q1*****************************\n",
        "def getInput(calculate_arg_fun):\n",
        "    def wrap_function():\n",
        "        a = int(input(\"\\nEnter First Number - \"))\n",
        "        b = int(input(\"\\nEnter Second Number - \"))\n",
        "        calculate_arg_fun(a,b)   \n",
        "    return wrap_function\n",
        "@getInput\n",
        "def oddNumber(start, last):   \n",
        "    print(\"\\nThe Odd numbers in the range\",start,\"to\",last,\"is :\\n\")\n",
        "    for n in range(start, last + 1): \n",
        "        if n % 2 != 0: \n",
        "            print(n, end = \" \")\n",
        "oddNumber()"
      ],
      "execution_count": 19,
      "outputs": [
        {
          "output_type": "stream",
          "text": [
            "\n",
            "Enter First Number - 1\n",
            "\n",
            "Enter Second Number - 20\n",
            "\n",
            "The Odd numbers in the range 1 to 20 is :\n",
            "\n",
            "1 3 5 7 9 11 13 15 17 19 "
          ],
          "name": "stdout"
        }
      ]
    },
    {
      "cell_type": "code",
      "metadata": {
        "id": "WauRFlJRNAG6",
        "colab_type": "code",
        "colab": {
          "base_uri": "https://localhost:8080/",
          "height": 34
        },
        "outputId": "55eb3d45-d494-45da-f979-0ba0b9d80d99"
      },
      "source": [
        "#**********************Q2******************************\n",
        "%%writefile test1.txt\n",
        "Hi, Ranjith here.\n"
      ],
      "execution_count": 15,
      "outputs": [
        {
          "output_type": "stream",
          "text": [
            "Writing test1.txt\n"
          ],
          "name": "stdout"
        }
      ]
    },
    {
      "cell_type": "code",
      "metadata": {
        "id": "5p8XPpM2TMGl",
        "colab_type": "code",
        "colab": {
          "base_uri": "https://localhost:8080/",
          "height": 51
        },
        "outputId": "8200c38f-6c6a-45a0-8927-3a862625ebb8"
      },
      "source": [
        "try:\n",
        "  file= open(\"test1.txt\",\"r\")\n",
        "  file.write(\"I'm a working professional.\")\n",
        "  print(\"Write operation is successfull\")\n",
        "except Exception as e:\n",
        "  print(\"Exception occurred\")\n",
        "  print(\"Exception message : \",e)"
      ],
      "execution_count": 18,
      "outputs": [
        {
          "output_type": "stream",
          "text": [
            "Exception occurred\n",
            "Exception message :  not writable\n"
          ],
          "name": "stdout"
        }
      ]
    }
  ]
}