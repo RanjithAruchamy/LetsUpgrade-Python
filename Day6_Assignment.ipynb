{
  "nbformat": 4,
  "nbformat_minor": 0,
  "metadata": {
    "colab": {
      "name": "Day6-Assignment.ipynb",
      "provenance": [],
      "collapsed_sections": [],
      "authorship_tag": "ABX9TyOOKVzn5AG2+4wysj80bAvU",
      "include_colab_link": true
    },
    "kernelspec": {
      "name": "python3",
      "display_name": "Python 3"
    }
  },
  "cells": [
    {
      "cell_type": "markdown",
      "metadata": {
        "id": "view-in-github",
        "colab_type": "text"
      },
      "source": [
        "<a href=\"https://colab.research.google.com/github/RanjithAruchamy/LetsUpgrade-Python/blob/master/Day6_Assignment.ipynb\" target=\"_parent\"><img src=\"https://colab.research.google.com/assets/colab-badge.svg\" alt=\"Open In Colab\"/></a>"
      ]
    },
    {
      "cell_type": "code",
      "metadata": {
        "id": "Bcg941OFjD42",
        "colab_type": "code",
        "colab": {
          "base_uri": "https://localhost:8080/",
          "height": 521
        },
        "outputId": "b1bd7608-8596-441e-e109-ccacf2d50882"
      },
      "source": [
        "#****************************Q1********************************\n",
        "class bankAccount():\n",
        "  def __init__(self):\n",
        "    self.ownerName = \"Ranjith\"\n",
        "    self.balance = 0\n",
        "  def deposit(self):\n",
        "    amount = float(input(\"Enter amount to deposited: \"))\n",
        "    self.balance += amount\n",
        "    print(\"Amount deposited: \",amount)\n",
        "  def withdraw(self):\n",
        "    if self.balance == 0:\n",
        "      print(\"Zero balance, cannot withdraw amount.\")\n",
        "      return 0\n",
        "    amount = float(input(\"Enter amount to be withdrawn: \"))\n",
        "    if self.balance >= amount:\n",
        "      self.balance -= amount\n",
        "      print(\"You have withdrawn: \", amount)\n",
        "    else:\n",
        "      print(\"Insufficient balance in the account\")\n",
        "  def getDetails(self):\n",
        "    print(\"Name \",self.ownerName)\n",
        "    print(\"Net Balance \",self.balance)\n",
        "ba = bankAccount()\n",
        "ch='y'\n",
        "while(ch=='y'):\n",
        "  print(\"1.View Details\\t2.Deposit Amount\\t3.Withdraw Amount\")\n",
        "  choice=int(input(\"Enter choice: \"))\n",
        "  if(choice==1):\n",
        "    ba.getDetails()\n",
        "  elif(choice==2):\n",
        "    ba.deposit()\n",
        "  elif(choice==3):\n",
        "    ba.withdraw()\n",
        "  else:\n",
        "    print(\"Invalid choice....!\")\n",
        "  ch=input(\"Do you want to continue?\")\n",
        "print(\"Thanks for Doing transaction\")"
      ],
      "execution_count": 61,
      "outputs": [
        {
          "output_type": "stream",
          "text": [
            "1.View Details\t2.Deposit Amount\t3.Withdraw Amount\n",
            "Enter choice: 2\n",
            "Enter amount to deposited: 10000\n",
            "Amount deposited:  10000.0\n",
            "Do you want to continue?y\n",
            "1.View Details\t2.Deposit Amount\t3.Withdraw Amount\n",
            "Enter choice: 2\n",
            "Enter amount to deposited: 10000\n",
            "Amount deposited:  10000.0\n",
            "Do you want to continue?y\n",
            "1.View Details\t2.Deposit Amount\t3.Withdraw Amount\n",
            "Enter choice: 1\n",
            "Name  Ranjith\n",
            "Net Balance  20000.0\n",
            "Do you want to continue?y\n",
            "1.View Details\t2.Deposit Amount\t3.Withdraw Amount\n",
            "Enter choice: 3\n",
            "Enter amount to be withdrawn: 10000\n",
            "You have withdrawn:  10000.0\n",
            "Do you want to continue?y\n",
            "1.View Details\t2.Deposit Amount\t3.Withdraw Amount\n",
            "Enter choice: 1\n",
            "Name  Ranjith\n",
            "Net Balance  10000.0\n",
            "Do you want to continue?y\n",
            "1.View Details\t2.Deposit Amount\t3.Withdraw Amount\n",
            "Enter choice: 3\n",
            "Enter amount to be withdrawn: 20000\n",
            "Insufficient balance in the account\n",
            "Do you want to continue?n\n",
            "Thanks for Doing transaction\n"
          ],
          "name": "stdout"
        }
      ]
    },
    {
      "cell_type": "code",
      "metadata": {
        "id": "0nGYOoQ0qNa7",
        "colab_type": "code",
        "colab": {
          "base_uri": "https://localhost:8080/",
          "height": 147
        },
        "outputId": "5898927b-b459-49b1-c9bd-0b5bf58c75dc"
      },
      "source": [
        "#*****************Q2********************************\n",
        "#******The formula for surfacearea is pi * r * (radius+sqrt(r2+h2))**********************\n",
        "import math\n",
        "pi = math.pi\n",
        "class cone:  \n",
        "    def __init__(self,r,h): \n",
        "        self.r=r\n",
        "        self.h=h\n",
        "    def volume(self):\n",
        "        result = (1 / 3) * pi * self.r * self.r * self.h\n",
        "        print(\"\\nVolume Of Cone is :\",result)\n",
        "    def surfacearea(self):\n",
        "        res = math.sqrt(self.r * self.r + self.h * self.h)\n",
        "        result = pi * self.r * (self.r + res)\n",
        "        print(\"\\nSurface Area Of Cone is :\",result)\n",
        "ra = float(input(\"\\nEnter the radius of cone : \"))\n",
        "he = float(input(\"\\nEnter the height of cone : \"))\n",
        "c = cone( ra, he)\n",
        "c.volume()\n",
        "c.surfacearea()"
      ],
      "execution_count": 32,
      "outputs": [
        {
          "output_type": "stream",
          "text": [
            "\n",
            "Enter the radius of cone : 11\n",
            "\n",
            "Enter the height of cone : 1\n",
            "\n",
            "Volume Of Cone is : 126.71090369478831\n",
            "\n",
            "Surface Area Of Cone is : 761.8329863906333\n"
          ],
          "name": "stdout"
        }
      ]
    }
  ]
}
